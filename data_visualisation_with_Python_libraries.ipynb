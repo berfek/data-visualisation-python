{
  "cells": [
    {
      "cell_type": "markdown",
      "metadata": {
        "id": "0O2iycVTvX0b"
      },
      "source": [
        "# **Importing libraries and reading datasets**"
      ]
    },
    {
      "cell_type": "code",
      "execution_count": null,
      "metadata": {
        "id": "-fbp1FPR5cFO"
      },
      "outputs": [],
      "source": [
        "import matplotlib.pyplot as plt\n",
        "import numpy as np\n",
        "import pandas as pd\n",
        "import seaborn as sns\n",
        "!pip install -U matplotlib pandas\n",
        "\n",
        "dailycustomers = pd.read_csv('url_1.csv', index_col=0)\n",
        "dailycustomers = dailycustomers.reindex(dailycustomers.sum().sort_values(ascending=False).index, axis = 1)\n",
        "outletmarketing = pd.read_csv('url_2.csv', index_col=0)\n",
        "outletoverheads = pd.read_csv('url_3.csv', index_col=0)\n",
        "outletsize = pd.read_csv('url_4.csv', index_col=0)\n",
        "outletstaff = pd.read_csv('url_5.csv', index_col=0)\n"
      ]
    },
    {
      "cell_type": "code",
      "execution_count": null,
      "metadata": {
        "id": "upYSCne95xe_"
      },
      "outputs": [],
      "source": [
        "print(dailycustomers.head())\n",
        "print(dailycustomers.sum().head())"
      ]
    },
    {
      "cell_type": "markdown",
      "metadata": {
        "id": "9rPfQv9DvwXV"
      },
      "source": [
        "# **Reading Summary Data**\n",
        "\n",
        "\n"
      ]
    },
    {
      "cell_type": "code",
      "execution_count": null,
      "metadata": {
        "id": "pxlbNmgRNNZa"
      },
      "outputs": [],
      "source": [
        "summary_data=pd.DataFrame(index=dailycustomers.columns)\n",
        "summary_data['Outlet_Marketing']=outletmarketing.values\n",
        "summary_data['Outlet_Overheads']=outletoverheads.values\n",
        "summary_data['Outlet_Size']=outletsize.values\n",
        "summary_data['Outlet_Staff']=outletstaff.values\n",
        "summary_data['Daily_Visitors']=dailycustomers.sum().values"
      ]
    },
    {
      "cell_type": "code",
      "execution_count": null,
      "metadata": {
        "id": "TslBuvedN-c6"
      },
      "outputs": [],
      "source": [
        "print(dailycustomers.head())"
      ]
    },
    {
      "cell_type": "code",
      "execution_count": null,
      "metadata": {
        "id": "VCuNrdk6OBip"
      },
      "outputs": [],
      "source": [
        "print(summary_data.head())\n",
        "print(summary_data.describe())\n"
      ]
    },
    {
      "cell_type": "markdown",
      "metadata": {
        "id": "OOvUuUrky7en"
      },
      "source": [
        "# **Bar chart for total customers by outlets**"
      ]
    },
    {
      "cell_type": "code",
      "execution_count": null,
      "metadata": {
        "id": "SAOfDoPIuQCq"
      },
      "outputs": [],
      "source": [
        "# data.sum().plot.bar(width=0.8, rot=0, figsize=(8, 8))\n",
        "plt.figure(figsize=(20, 8))\n",
        "x_pos = np.arange(len(dailycustomers.columns))\n",
        "plt.bar(x_pos, dailycustomers.sum(), align='center')\n",
        "plt.xticks(x_pos, dailycustomers.columns)\n",
        "plt.xlabel('Outlets', fontsize=18)\n",
        "plt.ylabel('Daily Customers', fontsize=18)\n",
        "plt.title('Total Customers Visited Outlets', fontsize=20)\n",
        "plt.show()"
      ]
    },
    {
      "cell_type": "markdown",
      "metadata": {
        "id": "15qnrP1ezBqC"
      },
      "source": [
        "**Segmenting customers (Manual)**\n",
        "\n",
        "\n"
      ]
    },
    {
      "cell_type": "code",
      "execution_count": null,
      "metadata": {
        "id": "-aM7vGSwxuLu"
      },
      "outputs": [],
      "source": [
        "high = dailycustomers.columns[dailycustomers.sum()>500_000]\n",
        "print(dailycustomers[high].head())\n",
        "\n",
        "high = ['RAN', 'RFY', 'DMN']\n",
        "medium = ['EYS', 'DSA', 'EEC', 'BMF','BSQ','CYK','CGV']\n",
        "low = ['DHJ','END','DTO','OZW','NFH','LLK','OTL','PLB','FZI','GNL','IFI','EHT','LTU','QZF','FTW','MZO','PFQ','CNW','HZQ','CTH']"
      ]
    },
    {
      "cell_type": "code",
      "execution_count": null,
      "metadata": {
        "id": "G9OgDKla2XoJ"
      },
      "outputs": [],
      "source": [
        "print(dailycustomers.sum())"
      ]
    },
    {
      "cell_type": "markdown",
      "metadata": {
        "id": "kAcdy3MIzWVN"
      },
      "source": [
        "# **Segmenting Customers by the number of visits**\n",
        "\n",
        "\n"
      ]
    },
    {
      "cell_type": "code",
      "execution_count": null,
      "metadata": {
        "id": "npe0JgTM18W3"
      },
      "outputs": [],
      "source": [
        "import pandas as pd\n",
        "from matplotlib import pyplot as plt\n",
        "\n",
        "categories = ['High', 'Medium', 'Low']\n",
        "colours = []\n",
        "\n",
        "categories_selected = [[] for i in range(len(categories))]\n",
        "for name in dailycustomers.columns:\n",
        "    total_customers = dailycustomers[name].sum()\n",
        "    if total_customers > 600_000:\n",
        "        category = 0\n",
        "        colour = 'orange'\n",
        "\n",
        "    elif total_customers > 250_000:\n",
        "        category = 1\n",
        "        colour = 'green'\n",
        "    else:\n",
        "        category = 2\n",
        "        colour = 'blue'\n",
        "    colours.append(colour)\n",
        "    categories_selected[category].append(name)\n",
        "    #print('Outlet ' + name + ' is ' + categories[category] + ' volume')\n",
        "\n",
        "\n",
        "plt.figure(figsize=(20, 8))\n",
        "x_pos = np.arange(len(dailycustomers.columns))\n",
        "plt.bar(x_pos, dailycustomers.sum(), align='center', color=colours)\n",
        "plt.xticks(x_pos, dailycustomers.columns, rotation = 90)\n",
        "plt.xlabel('Outlets', fontsize=18)\n",
        "plt.ylabel('Customers', fontsize=18)\n",
        "plt.title('Total Customers Visited Outlets by Segments', fontsize=20)\n",
        "plt.show()\n",
        "\n"
      ]
    },
    {
      "cell_type": "code",
      "execution_count": null,
      "metadata": {
        "id": "N7Y3uG4i5DY7"
      },
      "outputs": [],
      "source": [
        "plt.figure(figsize=(30, 12))\n",
        "counter = 1\n",
        "x_pos = np.arange(len(summary_data.index))\n",
        "for attribute in summary_data:\n",
        "    sub = plt.subplot(3, 3, counter)\n",
        "    sub.bar(x_pos, summary_data[attribute], align='center')\n",
        "    sub.set_xticks([])\n",
        "    sub.set_xticks(x_pos)\n",
        "    sub.set_xticklabels(summary_data.index, rotation=45)\n",
        "    sub.set_xlabel('Outlets', fontsize=12)\n",
        "    sub.set_ylabel(attribute, fontsize=12)\n",
        "    counter += 1\n",
        "plt.tight_layout()\n",
        "plt.show()"
      ]
    },
    {
      "cell_type": "markdown",
      "metadata": {
        "id": "1AfrTYQ_zii4"
      },
      "source": [
        "# **Heatmap for Correlation**"
      ]
    },
    {
      "cell_type": "code",
      "execution_count": null,
      "metadata": {
        "id": "1QMFeJShu1nl"
      },
      "outputs": [],
      "source": [
        "customers = pd.read_csv('https://tinyurl.com/ChrisCoDV/001258010/OutletDailyCustomers.csv', index_col=0)\n",
        "marketing = pd.read_csv('https://tinyurl.com/ChrisCoDV/001258010/OutletMarketing.csv', index_col=0)\n",
        "overheads = pd.read_csv('https://tinyurl.com/ChrisCoDV/001258010/OutletOverheads.csv', index_col=0)\n",
        "size = pd.read_csv('https://tinyurl.com/ChrisCoDV/001258010/OutletSize.csv', index_col=0)\n",
        "staff = pd.read_csv('https://tinyurl.com/ChrisCoDV/001258010/OutletStaff.csv', index_col=0)\n",
        "\n",
        "sum_data=pd.DataFrame(index=customers.columns)\n",
        "sum_data['Outlet_Marketing']=marketing.values\n",
        "sum_data['Outlet_Overheads']=overheads.values\n",
        "sum_data['Outlet_Size']=size.values\n",
        "sum_data['Outlet_Staff']=staff.values\n",
        "sum_data['Outlet_Customers']=customers.sum().values\n",
        "\n",
        "plt.figure(figsize=(8, 8))\n",
        "plt.title('Correlations between the variables', fontsize=20)\n",
        "corr = sum_data.corr()\n",
        "ax = sns.heatmap(corr, vmin=-1, vmax=1, center=0, cmap=sns.diverging_palette(220, 20, n=200), square=True, annot=True,\n",
        "                 annot_kws={\"size\": 8})\n",
        "ax.set_xticklabels(ax.get_xticklabels(), rotation=45, horizontalalignment='right')\n",
        "plt.show()"
      ]
    },
    {
      "cell_type": "code",
      "execution_count": null,
      "metadata": {
        "id": "4f1WKmeA8_Qt"
      },
      "outputs": [],
      "source": [
        "High = ['RAN', 'RFY', 'DMN']\n",
        "\n",
        "\n",
        "counter = 1\n",
        "fig = plt.figure(figsize=(8, 8))\n",
        "fig.suptitle('Customers visiting correlations', fontsize=14, position=(0.5, 1.0))\n",
        "for i, name_i in enumerate(High):\n",
        "    for j in range(i + 1, len(High)):\n",
        "        name_j = High[j]\n",
        "        sub = fig.add_subplot(3, 3, counter)\n",
        "        sub.set_title(name_i + ' vs ' + name_j, fontsize=10)\n",
        "        sub.scatter(dailycustomers[name_i], dailycustomers[name_j], s=0.5)\n",
        "        counter += 1\n",
        "plt.subplots_adjust(wspace=0.5, hspace=0.5)\n",
        "plt.tight_layout()\n",
        "plt.show()\n"
      ]
    },
    {
      "cell_type": "markdown",
      "metadata": {
        "id": "fObCR5zKzsvo"
      },
      "source": [
        "\n",
        "\n",
        "\n",
        "# **Line Chart for Time Series**\n"
      ]
    },
    {
      "cell_type": "code",
      "execution_count": null,
      "metadata": {
        "id": "lrTqjJ3wivk9"
      },
      "outputs": [],
      "source": [
        "period = 14\n",
        "rolling_average = dailycustomers.rolling(window=period).mean()\n",
        "dailycustomers.index = pd.to_datetime(dailycustomers.index)\n",
        "\n",
        "selected=['RAN', 'RFY', 'DMN']\n",
        "print(dailycustomers[selected].head())\n",
        "\n",
        "plt.figure(figsize=(15, 8))\n",
        "plt.plot(dailycustomers[selected], linewidth=0.5)\n",
        "plt.gca().set_prop_cycle(None)\n",
        "plt.plot(rolling_average[selected], linewidth=2)\n",
        "plt.gca().set_prop_cycle(None)\n",
        "for name in selected:\n",
        "    x = np.arange(len(dailycustomers[name]))\n",
        "    z = np.polyfit(x, dailycustomers[name], 1)\n",
        "    trend = np.poly1d(z)\n",
        "    plt.plot(dailycustomers.index, trend(x), linestyle='--')\n",
        "plt.ylim(ymin=0) #y xis starts from 0\n",
        "plt.xlabel('Date', fontsize=18)\n",
        "plt.ylabel('Customers', fontsize=18)\n",
        "plt.title('Trend for High Volume Outlets (14 days rolling average)', fontsize=20)\n",
        "plt.legend(selected, loc=2)\n",
        "plt.show()"
      ]
    },
    {
      "cell_type": "code",
      "source": [
        "period = 14\n",
        "rolling_average = dailycustomers.rolling(window=period).mean()\n",
        "\n",
        "Medium = ['EYS', 'DSA', 'EEC', 'BMF','BSQ','CYK','CGV']\n",
        "print(dailycustomers[Medium].head())\n",
        "\n",
        "plt.figure(figsize=(15, 8))\n",
        "plt.plot(dailycustomers[Medium], linewidth=0.5)\n",
        "plt.gca().set_prop_cycle(None)\n",
        "plt.plot(rolling_average[Medium], linewidth=2)\n",
        "plt.gca().set_prop_cycle(None)\n",
        "for name in Medium:\n",
        "    x = np.arange(len(dailycustomers[name]))\n",
        "    z = np.polyfit(x, dailycustomers[name], 1)\n",
        "    trend = np.poly1d(z)\n",
        "    plt.plot(dailycustomers.index, trend(x), linestyle='--')\n",
        "plt.ylim(ymin=0) #y xis starts from 0\n",
        "plt.xlabel('Date', fontsize=18)\n",
        "plt.ylabel('Customers', fontsize=18)\n",
        "plt.title('Trend for Medium Volume Outlets (14 days rolling average)', fontsize=20)\n",
        "plt.legend(Medium, loc=2)\n",
        "plt.show()"
      ],
      "metadata": {
        "id": "X72a5GYeSv-S"
      },
      "execution_count": null,
      "outputs": []
    },
    {
      "cell_type": "markdown",
      "source": [
        "eliminate some of noise by using averages. plotting 14 days instead of daily data.  I computed the average of last 14 days. There is more smoother line."
      ],
      "metadata": {
        "id": "55CV0AiTvheL"
      }
    },
    {
      "cell_type": "code",
      "source": [
        "# sort the data according to the sum of each column\n",
        "data = dailycustomers.reindex(dailycustomers.sum().sort_values(ascending=False).index, axis=1)\n",
        "\n",
        "plt.figure(figsize=(8, 8))\n",
        "# data.plot.area(figsize=(8, 8))\n",
        "plt.stackplot(data.index, data[High].transpose())\n",
        "plt.xlabel('Date', fontsize=18)\n",
        "plt.ylabel('Customer', fontsize=18)\n",
        "plt.title('The number of High Volume Customers', fontsize=20)\n",
        "plt.legend(data.columns, loc=2)\n",
        "plt.show()"
      ],
      "metadata": {
        "id": "soHQ-4ubMJAi"
      },
      "execution_count": null,
      "outputs": []
    },
    {
      "cell_type": "code",
      "source": [
        "# sort the data according to the sum of each column\n",
        "data = dailycustomers.reindex(dailycustomers.sum().sort_values(ascending=False).index, axis=1)\n",
        "plt.figure(figsize=(8, 8))\n",
        "# data.plot.area(figsize=(8, 8))\n",
        "plt.stackplot(data.index, data[Medium].transpose())\n",
        "plt.xlabel('Date', fontsize=18)\n",
        "plt.ylabel('Customer', fontsize=18)\n",
        "plt.title('The number of Medium Volume Customers', fontsize=20)\n",
        "plt.legend(data.columns, loc=2)\n",
        "plt.show()"
      ],
      "metadata": {
        "id": "_6tVRI8KQv20"
      },
      "execution_count": null,
      "outputs": []
    },
    {
      "cell_type": "markdown",
      "source": [
        "# **BOX PLOTS**"
      ],
      "metadata": {
        "id": "kXUCnUMEJPGg"
      }
    },
    {
      "cell_type": "code",
      "execution_count": null,
      "metadata": {
        "id": "7YkjCN3SHChM"
      },
      "outputs": [],
      "source": [
        "plt.figure(figsize=(20, 8))\n",
        "# data[selected].boxplot()\n",
        "plt.boxplot(dailycustomers[Medium], labels=Medium)\n",
        "plt.xlabel('Outlets', fontsize=18)\n",
        "plt.ylabel('Customers visiting per day', fontsize=18)\n",
        "plt.title('Distributions of Medium volume customers visiting outlets', fontsize=20)\n",
        "plt.show()"
      ]
    },
    {
      "cell_type": "code",
      "execution_count": null,
      "metadata": {
        "id": "M-XIhbJy7nRh"
      },
      "outputs": [],
      "source": [
        "\n",
        "x_min = 800\n",
        "x_max = 3000\n",
        "bin_width = 70\n",
        "\n",
        "n_bins = int((bin_width + x_max - x_min) / bin_width)\n",
        "print(str(n_bins) + ' bins')\n",
        "bins = [(x_min + x * (bin_width + x_max - x_min) / n_bins) for x in range(int(n_bins))]\n",
        "\n",
        "fig = plt.figure(figsize=(8, 8))\n",
        "fig.suptitle('High volume product sales distributions', fontsize=20, position=(0.5, 1.0))\n",
        "counter = 1\n",
        "for name in High:\n",
        "    sub = fig.add_subplot(2, 2, counter)\n",
        "    sub.hist(dailycustomers[name], bins, edgecolor='w')\n",
        "    sub.set_title('Outlet ' + name, fontsize=10)\n",
        "    sub.set_xlim(xmin=x_min, xmax=x_max)\n",
        "    sub.set_ylim(ymin=0, ymax=140)\n",
        "    counter += 1\n",
        "# plt.subplots_adjust(wspace=0.4, hspace=0.4)\n",
        "plt.show()\n"
      ]
    },
    {
      "cell_type": "code",
      "execution_count": null,
      "metadata": {
        "id": "tklh159Of09I"
      },
      "outputs": [],
      "source": [
        "x_min = 250\n",
        "x_max = 1500\n",
        "bin_width = 70\n",
        "\n",
        "n_bins = int((bin_width + x_max - x_min) / bin_width)\n",
        "print(str(n_bins) + ' bins')\n",
        "bins = [(x_min + x * (bin_width + x_max - x_min) / n_bins) for x in range(int(n_bins))]\n",
        "\n",
        "fig = plt.figure(figsize=(12, 8))\n",
        "fig.suptitle('Medium volume product sales distributions', fontsize=20, position=(0.5, 1.0))\n",
        "counter = 1\n",
        "for name in Medium:\n",
        "    sub = fig.add_subplot(3, 3, counter)\n",
        "    sub.hist(dailycustomers[name], bins, edgecolor='w')\n",
        "    sub.set_title('Outlet ' + name, fontsize=10)\n",
        "    sub.set_xlim(xmin=x_min, xmax=x_max)\n",
        "    sub.set_ylim(ymin=0, ymax=140)\n",
        "    counter += 1\n",
        "# plt.subplots_adjust(wspace=0.4, hspace=0.4)\n",
        "plt.show()"
      ]
    },
    {
      "cell_type": "markdown",
      "metadata": {
        "id": "v8VXANRl0BO5"
      },
      "source": [
        "# **Radar Charts**"
      ]
    },
    {
      "cell_type": "code",
      "execution_count": null,
      "metadata": {
        "id": "0pYlGozmZbB2"
      },
      "outputs": [],
      "source": [
        "sum_data=pd.DataFrame(index=customers.columns)\n",
        "sum_data['Outlet_Staff']=staff.values\n",
        "sum_data['Outlet_Size']=size.values\n",
        "sum_data['Outlet_Customers']=customers.sum().values\n",
        "sum_data['Outlet_Marketing']=marketing.values\n",
        "sum_data['Outlet_Overheads']=overheads.values\n",
        "\n",
        "\n",
        "normalised_data = sum_data / sum_data.max()\n",
        "print(normalised_data.head())\n",
        "\n",
        "n_attributes = len(normalised_data.columns)\n",
        "angles = [n / float(n_attributes) * 2 * np.pi for n in range(n_attributes + 1)]\n",
        "plt.figure(figsize=(20, 20))\n",
        "counter = 1\n",
        "for name in High:\n",
        "    values = normalised_data.loc[[name]].values.flatten().tolist()\n",
        "    values += values[:1]\n",
        "    sub = plt.subplot(5, 5, counter, polar=True)\n",
        "    sub.plot(angles, values)\n",
        "    sub.fill(angles, values, alpha=0.1)\n",
        "    sub.set_ylim(ymax=1.05)\n",
        "    sub.set_yticks([0.2, 0.4, 0.6, 0.8, 1.0])\n",
        "    sub.set_xticks(angles[0:-1])\n",
        "    sub.set_xticklabels(normalised_data.columns, fontsize=8)\n",
        "    sub.set_title('Outlet ' + name, fontsize=12, loc='left')\n",
        "    counter += 1\n",
        "plt.tight_layout()\n",
        "plt.show()"
      ]
    },
    {
      "cell_type": "code",
      "execution_count": null,
      "metadata": {
        "id": "g03LmQvhW8oL"
      },
      "outputs": [],
      "source": [
        "Medium = ['EYS', 'DSA', 'EEC', 'BMF', 'BSQ', 'CYK', 'CGV']\n",
        "normalised_data = sum_data / sum_data.loc[Medium].max() #normalising\n",
        "\n",
        "n_attributes = len(normalised_data.columns)\n",
        "angles = [n / float(n_attributes) * 2 * np.pi for n in range(n_attributes + 1)]\n",
        "plt.figure(figsize=(20, 20))\n",
        "counter = 1\n",
        "for name in Medium:\n",
        "    values = normalised_data.loc[[name]].values.flatten().tolist()\n",
        "    values += values[:1]\n",
        "    sub = plt.subplot(6, 6, counter, polar=True)\n",
        "    sub.plot(angles, values)\n",
        "    sub.fill(angles, values, alpha=0.1)\n",
        "    sub.set_ylim(ymax=1.05)\n",
        "    sub.set_yticks([0.2, 0.4, 0.6, 0.8, 1.0])\n",
        "    sub.set_xticks(angles[0:-1])\n",
        "    sub.set_xticklabels(normalised_data.columns, fontsize=8)\n",
        "    sub.set_title('Outlet ' + name, fontsize=12, loc='left')\n",
        "    counter += 1\n",
        "plt.tight_layout()\n",
        "plt.show()"
      ]
    },
    {
      "cell_type": "code",
      "source": [
        "s_data=pd.DataFrame(index=customers.columns)\n",
        "s_data['Outlet_Customers']=customers.sum().values\n",
        "s_data['Outlet_Size']=size.values\n",
        "s_data['Outlet_Staff']=staff.values\n",
        "s_data['Outlet_Marketing']=marketing.values\n",
        "s_data['Outlet_Overheads']=overheads.values\n",
        "\n",
        "norm_data = s_data / s_data.max()\n",
        "print(norm_data.head())\n",
        "\n",
        "sel = ['RAN', 'RFY', 'DMN']\n",
        "\n",
        "\n",
        "n_attributes = len(norm_data.columns)\n",
        "angles = [n / float(n_attributes) * 2 * np.pi for n in range(n_attributes + 1)]\n",
        "colours = ['b', 'g', 'r', 'c', 'm', 'y', 'k', 'w']\n",
        "c = 0\n",
        "plt.figure(figsize=(8, 8))\n",
        "sub = plt.subplot(1, 1, 1, polar=True)\n",
        "for name in sel:\n",
        "    values = norm_data.loc[[name]].values.flatten().tolist()\n",
        "    values += values[:1]\n",
        "    sub.plot(angles, values, colours[c % len(colours)], label='Outlet ' + name)\n",
        "    sub.fill(angles, values, colours[c % len(colours)], alpha=0.1)\n",
        "    sub.set_ylim(ymax=1.05)\n",
        "    sub.set_yticks([0.2, 0.4, 0.6, 0.8, 1.0])\n",
        "    sub.set_xticks(angles[0:-1])\n",
        "    sub.set_xticklabels(norm_data.columns)\n",
        "    c += 1\n",
        "plt.legend(loc=4)\n",
        "plt.show()\n"
      ],
      "metadata": {
        "id": "ERgo1LkY0wbP"
      },
      "execution_count": null,
      "outputs": []
    },
    {
      "cell_type": "code",
      "source": [
        "s_data=pd.DataFrame(index=customers.columns)\n",
        "s_data['Outlet_Customers']=customers.sum().values\n",
        "s_data['Outlet_Size']=size.values\n",
        "s_data['Outlet_Staff']=staff.values\n",
        "s_data['Outlet_Marketing']=marketing.values\n",
        "s_data['Outlet_Overheads']=overheads.values\n",
        "\n",
        "norm_data = s_data / s_data.max()\n",
        "print(norm_data.head())\n",
        "\n",
        "sel_m = ['EYS', 'DSA', 'EEC', 'BMF', 'BSQ', 'CYK', 'CGV']\n",
        "\n",
        "\n",
        "n_attributes = len(norm_data.columns)\n",
        "angles = [n / float(n_attributes) * 2 * np.pi for n in range(n_attributes + 1)]\n",
        "colours = ['b', 'g', 'r', 'c', 'm', 'y', 'k', 'w']\n",
        "c = 0\n",
        "plt.figure(figsize=(8, 8))\n",
        "sub = plt.subplot(1, 1, 1, polar=True)\n",
        "for name in sel_m:\n",
        "    values = norm_data.loc[[name]].values.flatten().tolist()\n",
        "    values += values[:1]\n",
        "    sub.plot(angles, values, colours[c % len(colours)], label='Outlet ' + name)\n",
        "    sub.fill(angles, values, colours[c % len(colours)], alpha=0.1)\n",
        "    sub.set_ylim(ymax=1.05)\n",
        "    sub.set_yticks([0.2, 0.4, 0.6, 0.8, 1.0])\n",
        "    sub.set_xticks(angles[0:-1])\n",
        "    sub.set_xticklabels(norm_data.columns)\n",
        "    c += 1\n",
        "plt.legend(loc=4)\n",
        "plt.show()\n"
      ],
      "metadata": {
        "id": "mej1GoYk2kRS"
      },
      "execution_count": null,
      "outputs": []
    },
    {
      "cell_type": "markdown",
      "source": [
        "# **Comparative Bar Chart**"
      ],
      "metadata": {
        "id": "A7yGK7R1l8Mw"
      }
    },
    {
      "cell_type": "code",
      "source": [
        "# selected = ['G', 'H', 'J', 'S', 'W']  # medium volume\n",
        "# selected = ['D', 'E', 'M', 'O', 'P', 'T', 'X']  # low volume\n",
        "\n",
        "selected = ['RAN', 'RFY', 'DMN']  # high volume\n",
        "colours = ['b', 'g', 'r', 'c', 'm', 'y', 'k']\n",
        "plt.figure(figsize=(15, 8))\n",
        "c = 0\n",
        "n_bars = len(sel_m)\n",
        "x_pos_base = np.arange(len(s_data.columns))\n",
        "bar_width = 0.8 / n_bars\n",
        "for name in sel_m:\n",
        "    values = norm_data.loc[[name]].values.flatten().tolist()\n",
        "    x_pos = [x + (bar_width * c) for x in x_pos_base]\n",
        "    plt.bar(x_pos, values, color=colours[c % len(colours)],\n",
        "            width=bar_width, edgecolor='white', label='Outlet ' + name)\n",
        "    c += 1\n",
        "plt.yticks([0.2, 0.4, 0.6, 0.8, 1.0])\n",
        "x_pos = [x + (bar_width * (c - 1) / 2) for x in x_pos_base]\n",
        "plt.xticks(x_pos, s_data.columns)\n",
        "plt.title('Comparative Bar Chart for Medium Volume Outlets', fontsize=20, position=(0.5, 1.0))\n",
        "plt.legend()\n",
        "plt.show()"
      ],
      "metadata": {
        "id": "3dgKebbZ5G1a"
      },
      "execution_count": null,
      "outputs": []
    },
    {
      "cell_type": "code",
      "source": [
        "# selected = ['G', 'H', 'J', 'S', 'W']  # medium volume\n",
        "# selected = ['D', 'E', 'M', 'O', 'P', 'T', 'X']  # low volume\n",
        "\n",
        "selected = ['RAN', 'RFY', 'DMN']  # high volume\n",
        "colours = ['y', 'g', 'b']\n",
        "plt.figure(figsize=(15, 8))\n",
        "c = 0\n",
        "n_bars = len(sel)\n",
        "x_pos_base = np.arange(len(s_data.columns))\n",
        "bar_width = 0.8 / n_bars\n",
        "for name in sel:\n",
        "    values = norm_data.loc[[name]].values.flatten().tolist()\n",
        "    x_pos = [x + (bar_width * c) for x in x_pos_base]\n",
        "    plt.bar(x_pos, values, color=colours[c % len(colours)],\n",
        "            width=bar_width, edgecolor='white', label='Outlet ' + name)\n",
        "    c += 1\n",
        "plt.yticks([0.2, 0.4, 0.6, 0.8, 1.0])\n",
        "x_pos = [x + (bar_width * (c - 1) / 2) for x in x_pos_base]\n",
        "plt.xticks(x_pos, s_data.columns)\n",
        "plt.title('Comparative Bar Chart for High Volume Outlets',fontsize=20, position=(0.5, 1.0))\n",
        "plt.legend()\n",
        "plt.show()"
      ],
      "metadata": {
        "id": "piODk4Sm5Zkv"
      },
      "execution_count": null,
      "outputs": []
    },
    {
      "cell_type": "markdown",
      "metadata": {
        "id": "gPeJNSJjjK_W"
      },
      "source": [
        "I organized the columns, I ordered the positve measures to the beginning order."
      ]
    },
    {
      "cell_type": "code",
      "execution_count": null,
      "metadata": {
        "id": "XIN6bvafaaPi"
      },
      "outputs": [],
      "source": [
        "import seaborn as sns\n",
        "sns.pairplot(sum_data, height=1.5, plot_kws={'s': 20} )"
      ]
    },
    {
      "cell_type": "markdown",
      "metadata": {
        "id": "O-yUk5sVrIjZ"
      },
      "source": [
        "There are high correlation between the staff, size and marketing. The bigger\n",
        "\n",
        "outlets need the bigger staff. As we expect, for big stores the more spending on marketing needs. More customers are received by big stores compared to the other stores."
      ]
    },
    {
      "cell_type": "markdown",
      "source": [
        "# **INTERACTIVE PLOTS**"
      ],
      "metadata": {
        "id": "F0ibQCJ-mGjK"
      }
    },
    {
      "cell_type": "code",
      "execution_count": null,
      "metadata": {
        "id": "hVBc2UxXPF3N"
      },
      "outputs": [],
      "source": [
        "!pip install hvplot\n",
        "import holoviews as hv\n"
      ]
    },
    {
      "cell_type": "code",
      "execution_count": null,
      "metadata": {
        "id": "rMwnE0SURqQL"
      },
      "outputs": [],
      "source": [
        "selected = ['RAN','RFY','DMN']\n",
        "\n",
        "import hvplot.pandas\n",
        "dailycustomers.index = pd.to_datetime(dailycustomers.index)\n",
        "plot = dailycustomers[selected].hvplot.line(\n",
        "    frame_height=500, frame_width=500,\n",
        "    xlabel='Date', ylabel='Daily Customers',\n",
        "    title='Interactive Line Plot for High Volume Outlets'\n",
        ")\n",
        "\n",
        "hv.extension('bokeh')\n",
        "plot"
      ]
    },
    {
      "cell_type": "code",
      "execution_count": null,
      "metadata": {
        "id": "0X6eeEO_X4zY"
      },
      "outputs": [],
      "source": [
        "Med = ['EYS', 'DSA', 'EEC', 'BMF', 'BSQ', 'CYK', 'CGV']\n",
        "\n",
        "import hvplot.pandas\n",
        "dailycustomers.index = pd.to_datetime(dailycustomers.index)\n",
        "plot = dailycustomers[Med].hvplot.line(\n",
        "    frame_height=500, frame_width=500,\n",
        "    xlabel='Date', ylabel='Daily Customers',\n",
        "    title='Interactive Line Graph for Medium Volume Outlets'\n",
        ")\n",
        "\n",
        "hv.extension('bokeh')\n",
        "plot"
      ]
    },
    {
      "cell_type": "code",
      "execution_count": null,
      "metadata": {
        "id": "bmcIAYs3Yofo"
      },
      "outputs": [],
      "source": [
        "x_min = 800\n",
        "x_max = 3100\n",
        "bin_width = 10\n",
        "n_bins = int((bin_width + x_max - x_min) / bin_width)\n",
        "print(str(n_bins) + ' bins')\n",
        "bins = [(x_min + x * (bin_width + x_max - x_min) / n_bins) for x in range(int(n_bins))]\n",
        "\n",
        "plot = dailycustomers[selected].hvplot.hist(\n",
        "    frame_height=500, frame_width=500,\n",
        "    xlabel='Daily customer', ylabel='Frequency',\n",
        "    title='High Volume Outlets',\n",
        "    alpha=0.5, muted_alpha=0, muted_fill_alpha=0, muted_line_alpha=0,\n",
        "    tools=['pan', 'box_zoom', 'wheel_zoom', 'undo', 'redo', 'hover', 'save', 'reset'],\n",
        "    bins=bins\n",
        ")\n",
        "hv.extension('bokeh')\n",
        "plot"
      ]
    },
    {
      "cell_type": "code",
      "execution_count": null,
      "metadata": {
        "id": "lnDRznB2ZUmo"
      },
      "outputs": [],
      "source": [
        "x_min = 300\n",
        "x_max = 1500\n",
        "bin_width = 10\n",
        "n_bins = int((bin_width + x_max - x_min) / bin_width)\n",
        "print(str(n_bins) + ' bins')\n",
        "bins = [(x_min + x * (bin_width + x_max - x_min) / n_bins) for x in range(int(n_bins))]\n",
        "\n",
        "plot = dailycustomers[Med].hvplot.hist(\n",
        "    frame_height=500, frame_width=500,\n",
        "    xlabel='Daily customer', ylabel='Frequency',\n",
        "    title='Medium Volume Outlets',\n",
        "    alpha=0.5, muted_alpha=0, muted_fill_alpha=0, muted_line_alpha=0,\n",
        "    tools=['pan', 'box_zoom', 'wheel_zoom', 'undo', 'redo', 'hover', 'save', 'reset'],\n",
        "    bins=bins\n",
        ")\n",
        "hv.extension('bokeh')\n",
        "plot"
      ]
    },
    {
      "cell_type": "code",
      "execution_count": null,
      "metadata": {
        "id": "2OX6AkjUbzHN"
      },
      "outputs": [],
      "source": [
        "print(sum_data.head())"
      ]
    },
    {
      "cell_type": "code",
      "execution_count": null,
      "metadata": {
        "id": "TkmLxupbbZqJ"
      },
      "outputs": [],
      "source": [
        "sum_data['BubbleSize'] = sum_data['Outlet_Marketing'] * 0.08\n",
        "\n",
        "plot = sum_data.hvplot.scatter(\n",
        "    frame_height=500, frame_width=500,\n",
        "    title='Customers vs Store Size (vs Marketing)',\n",
        "    xlabel='Customers', ylabel='Outlet Size',\n",
        "    alpha=0.5, padding=0.1, hover_cols='all',\n",
        "    tools=['pan', 'box_zoom', 'wheel_zoom', 'undo', 'redo', 'hover', 'save', 'reset'],\n",
        "    x='Outlet_Customers', y='Outlet_Size', size='BubbleSize'\n",
        ")\n",
        "hv.extension('bokeh')\n",
        "plot\n",
        "\n"
      ]
    }
  ],
  "metadata": {
    "colab": {
      "provenance": []
    },
    "kernelspec": {
      "display_name": "Python 3",
      "name": "python3"
    },
    "language_info": {
      "name": "python"
    }
  },
  "nbformat": 4,
  "nbformat_minor": 0
}